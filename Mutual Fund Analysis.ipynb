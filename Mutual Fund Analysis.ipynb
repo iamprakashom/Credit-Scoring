{
  "nbformat": 4,
  "nbformat_minor": 0,
  "metadata": {
    "colab": {
      "name": "Mutual Fund Analysis.ipynb",
      "version": "0.3.2",
      "provenance": [],
      "toc_visible": true,
      "include_colab_link": true
    },
    "kernelspec": {
      "display_name": "Python [default]",
      "language": "python",
      "name": "python2"
    }
  },
  "cells": [
    {
      "cell_type": "markdown",
      "metadata": {
        "id": "view-in-github",
        "colab_type": "text"
      },
      "source": [
        "<a href=\"https://colab.research.google.com/github/iamprakashom/Financial-Service-Analsis/blob/master/Mutual%20Fund%20Analysis.ipynb\" target=\"_parent\"><img src=\"https://colab.research.google.com/assets/colab-badge.svg\" alt=\"Open In Colab\"/></a>"
      ]
    },
    {
      "metadata": {
        "id": "LZfolcIQipsf",
        "colab_type": "text"
      },
      "cell_type": "markdown",
      "source": [
        "**Analysis of Mutual Funds**\n",
        "\n",
        "A study on mutual funds in India for recommendation of good schemes and understanding factors affecting scheme performance over the short, medium and long terms"
      ]
    },
    {
      "metadata": {
        "id": "JOiUcmOniygH",
        "colab_type": "text"
      },
      "cell_type": "markdown",
      "source": [
        "# Motivation and Background\n",
        "\n",
        "By definition, a mutual fund is an investment vehicle that is made up of a pool of funds collected from many investors for the purpose of investing in securities such as stocks, bonds, money market instruments and similar assets.\n",
        "\n",
        "The power of mutual funds lies in that they are managed by \"fund managers\", who invest the fund's capital and attempt to produce capital gains and income for the fund's investors. This enables small investors to invest in professionally managed, diversified portfolios of equities, bonds and other securities, which would otherwise be very hard to create with limited knowledge and a small amount of capital.\n",
        "\n",
        "There are various factors to consider while making an investment decision:\n",
        "\n",
        "Desired Income: A regular current income or long-term capital gains or tax benefits, etc. ?\n",
        "Risk Appetite: A low-risk, low-gain conservative portfolio or high-risk, high gain portfolio in volatile categories?\n",
        "Time Horizon: Liquidity concerns in the short, medium and long terms\n",
        "Fund type: Capital appreciation in equity funds or mixed investment in stocks and bonds using balanced funds?\n",
        "Fund category: Diversified or Narrow? Bluechip or Energy? etc.\n",
        "Size of the fund: Assets managed by the fund\n",
        "Historical Returns\n",
        "Benchmarks and benchmark performance ...\n",
        "When you begin to consider the aforementioned points, it becomes easy to see why still only less than 10% of Indian households invest in mutual fund schemes, despite them being fairly well regulated by Association of Mutual Funds in India and being managed by professional fund managers. According to a 2013 Boston Analytics research report, such a low number in a big market like India has resulted from perceived high risk in investments and lack of information on how mutual funds work. This motivates us for undertaking this project\n",
        "\n",
        "\n",
        "\n",
        "## Label Generation\n",
        "We compute Expectation for each time horizon (1m, 3m, 6, 1y, 2y, 3y, 5y) based on the 5 metrics defined above to get an expected value between 0 and 1. We round() the value to either 0 and 1 and use it as the label for binary classification where 1 represents a good investment option and 0 otherwise.\n",
        "\n",
        "## Feature Selection and Classification\n",
        "We use the following as the features for our binary classification task:\n",
        "\n",
        "1. Scheme Risk\n",
        "2. CRISIL Rating\n",
        "3. Fund Family AUM\n",
        "4. Scheme AUM\n",
        "5. Latest Net Asset Value\n",
        "6. Minimum Investment for scheme\n",
        "7. Latest Dividend\n",
        "8. Scheme Bonus\n",
        "9. Fund Return in any time frame\n",
        "10. Category Average Return in any time frame\n",
        "\n",
        "On further analysis, we realize that only a few funds have paid out any dividends or issued bonuses, therefore these are unimportant features and can be eliminated. We transform our features into a Pandas dataframe for analysis.\n",
        "\n",
        "We separate ~23% data as test data and ~77% as training data. We perform 10-fold cross validation on Random Forest Classification with 1 to 40 trees in the forest, on training data for each individual time frame. We use box plots to visualize the results of cross-validation and pick an ideal estimator size. We train our Random Forest Classifier with the ideal estimator on the training data and check it's performance on test data by predicting labels and comparing them with the pre-assigned labels. We also generate feature importance charts from random forest classification to educate our users about the features to look at for any time horizon.\n",
        "\n",
        "## Visualization, Results and Interpretation\n",
        "We obtain the following classification scores for each time frame: 1 month : 0.966216216216 3 month : 0.962837837838 6 month : 0.942567567568 1 year : 0.989864864865 2 year : 0.966216216216 3 year : 0.942567567568 5 year : 0.956081081081\n",
        "\n",
        "The scores appear to be very high because of the class imbalance problem. Out of a total of 1296 data points, only these many are labeled as good, the rest are bad: 1 month : 54 good / 1296 total 3 month : 52 good / 1296 total 6 month : 61 good / 1296 total 1 year : 72 good / 1296 total 2 year : 120 good / 1296 total 3 year : 139 good / 1296 total 5 year : 107 good / 1296 total\n",
        "\n",
        "This means that if the classifier blindly assigned zeros to every data point, it would still produce a good score just because it correctly labeled bad data points as bad by chance. We can observe this by calculating the precision, recall and plotting Receiver Operating Characteristics (ROC curves). The problem can be solved in two ways - either by reducing the number of bad samples (not recommended for this particular scenario) or by increasing the good samples (which can be done by duplicating the good samples). The model trained after making these changes would perform better on unseen samples. We would like to solve the Class Imbalance problem and train a better model as a future improvement for this product.\n",
        "\n",
        "## Data Product\n",
        "Our data product is available as a ready-to-execute notebook hosted on the cloud, with inline visualizations enabled so that the mutual fund scheme analytics can be visualized on the web. The protected webpage can be reached at https://ec2-52-34-246-232.us-west-2.compute.amazonaws.com:8888/notebooks/MoneyControl.ipynb where instructions can be run step by step and results can be visualized on demand.\n",
        "\n",
        "### Tools and Technology\n",
        "Python 2.7 (programming language) with the following modules: a. Beautiful Soup 4 b. LXML c. Requests d. Numpy e. Scikit Learn f. MatPlotLib g. Seaborn\n",
        "Amazon Web Services ( EC2, S3, I&AM )\n",
        "Jupyter for iPython Notebooks hosted on AWS\n",
        "\n",
        "## Improvements and Future Plans\n",
        "To improve our project and pursue our analysis further in the future, we would like to develop and examine models based on individual volatility measures such as the Sharpe Ration, Sortino Ration, Standard Deviation; modern portfolio theory statistics such as R-Squared, Beta, Alpha, Treynor Ratio; and upside and downside capture ratios. We have identified `MorningStar.in` as a potential source of this information (Listed under Risk and Rating for individual fund schemes, see [8] as an example). Some form of data munging or data wrangling would be required to map unique identifiers of mutual funds between AMFI and MorningStar.in to join the datasets. We would like to solve the Class Imbalance problem that we encounter in undertaking this project.\n",
        "\n",
        "The label generation would follow the logic for risk measurement metrics presented at Investopedia [9]. Another extension of the project could be comparing the risk assessment done as mentioned before with the risk ratings given by financial information portals like MoneyControl.com\n",
        "\n",
        "### Previous Related Work\n",
        "1. G. V. Satya Sekhar. The Indian Mutual Fund Industry [internet]. Basingstoke: Palgrave Macmillan; August 2014. [cited 2016 April 9]. Available from: [http://www.palgraveconnect.com.proxy.lib.sfu.ca/pc/doifinder/10.1057/9781137407993.0001](http://www.palgraveconnect.com.proxy.lib.sfu.ca/pc/doifinder/10.1057/9781137407993.0001)\n",
        "\n",
        "2. Sapar, Narayan Rao and Madava, Ravindran, Performance Evaluation of Indian Mutual Funds. Available at SSRN: http://ssrn.com/abstract=433100 or http://dx.doi.org/10.2139/ssrn.433100\n",
        "\n",
        "3. Mahajan, Nijhara, Tarani, Grover, Kumar, University of Delhi, Performance and Evaluation of Mutual Funds in India http://www.academia.edu/8085828/Performance_Evaluation_of_Mutual_Funds_in_india examines return from 15 mutual funds to find out relationship between market returns and scheme returns, and identify total and systematic risk\n",
        "\n",
        "4. Meenakshi Garg, Dr. S.L. Gupta, A study of performance evaluation of selected mutual funds in India - available at http://shodhganga.inflibnet.ac.in/bitstream/10603/17475/13/13_summary.pdf explore the differences in performance indication by different Modern Portfolio Theory statistics, and explore correlation between index based returns and scheme returns, etc. However, the research and results are not reproducible as no code or visual references or analytics have been provided, and hence we explore some hypothesis in our project.\n",
        "\n",
        "5. Bhatt P, Bandopadhyay A. Performance Evaluation of Schemes of Indian and International Mutual Funds: An Empirical Study of Selected Equity Large Cap Funds. Journal Of Finance, Accounting & Management [serial on the Internet]. (2011, July), [cited April 9, 2016]; 2(2): 58-70. Available from: Business Source Complete.\n",
        "\n",
        "## References\n",
        "http://portal.amfiindia.com/spages/aqu-vol15-issueI.pdf\n",
        "\n",
        "http://www.amfiindia.com/research-information/amfi-newsletter\n",
        "\n",
        "http://www.amfiindia.com/research-information/aum-data\n",
        "\n",
        "http://www.amfiindia.com/\n",
        "\n",
        "http://portal.amfiindia.com/spages/NAV0.txt\n",
        "\n",
        "http://www.moneycontrol.com/mutualfundindia/\n",
        "\n",
        "http://www.moneycontrol.com/cdata/aboutus.php\n",
        "\n",
        "http://www.morningstar.in/mutualfunds/f0gbr06ram/sundaram-growth/risk-ratings.aspx\n",
        "\n",
        "http://www.investopedia.com/articles/mutualfund/112002.asp"
      ]
    },
    {
      "metadata": {
        "id": "_cTIlAjhjGYP",
        "colab_type": "text"
      },
      "cell_type": "markdown",
      "source": [
        "# Problem Statement\n",
        "With our project, we aim to perform an analysis of mutual fund schemes in India to recommend good investment options. We would also educate our users about the factors and the degree to which these factors affect the mutual fund performance in different time horizons ranging from 1 month to 5 years.\n",
        "\n",
        "Even with such a low investor engagement as seen above, the average assets under managment across all the asset management companies amounted roughly to the tune of USD 184.6 billions [1][2][3] and amounts in sales mobilized by all schemes roughly to the tune of USD 390 billions [1][2]. Therefore, pursuing such an analysis would be a huge avenue for business development, growing and sustaining customers by offering the unique value add in the form of educating them, and a major incentive to the business itself in terms of developing in-house understanding of mutual fund performance dynamics.\n",
        "\n",
        "## Sources of Data\n",
        "We collect the data about mutual fund families and individual schemes operating in India from two disparate data sources:\n",
        "\n",
        "Association of Mutual Funds in India (or AMFI ) [4] - the association of SEBI (Securities and Exchange Board of India) registered mutual funds in India of all the registered Asset Management Companies. [5]\n",
        "MoneyControl.com [6] - largest online financial platform in India [7]\n",
        "\n",
        "### Pipeline\n",
        "As the data from either of the sources is not available as a structured dataset available for download, we wrote web-scrapers to scrape latest net asset value (NAV) data from AMFI [5] which is updated daily and detailed financial information about the fund as well as returns history from MoneyControl.com\n",
        "\n",
        "The source data is collected and stored as CSVs. The fund family and fund schemes data for analysis lies in a list of fund schemes, each of which is represented as a dictionary (key-value store) of various attributes of the fund scheme. The data has to be cleaned and transformed extensively to be of any practical use. Some of the data cleaning, preprocessing and transformation steps that were performed are listed:\n",
        "\n",
        "1. While scraping AMFI data, patterns have been identified in data to parse the structure. By going over the contents of the file[5], we observe that a. The first line represents the titles of columns in a ;-delimited file b. There are blank lines that have to be ignored c. There are lines with only text, and no ;-delimited values, which may represent either mutual fund scheme's type or the name of a fund family\n",
        " - If a single line of text is encountered before a line containing ;-delimited values it is to be interpreted as the fund family name for all funds until next such line is encountered\n",
        " - If two lines of text are encountered before a line containing ;-delimited values, then the first line is to be interpreted as scheme type and the second line as the fund family name for all funds until next such line is encountered d. Create extra fields for better representation of data to join with other dataset - namely, scheme classification, type, category, fund family, ID and a short name. All of these are derived from composite data appearing in a single field.\n",
        " \n",
        "2. While scraping MoneyControl data, we: a. Collect everything as unicode strings, and fill missing values ('NA', 'N.A.', '--', '-', None) with unicode text 'None' instead of the None keyword for the sake of consistency and ease of processing later b. Implemented a method encode_risk() to encode risk into a numeric value on a scale from 1 to 5. The higher the risk, the lower the score. c. Implemented a method to_numeric() to convert all categorical attributes as well as numerical attributes formatted as text into numerals - wrote a regular expression that handles currency, CRISIL rankings, numbers formatted with commas, etc. and works well with decimals and signs.\n",
        "\n",
        "3. AMFI dataset gives us 12935 individual fund schemes. We restrict our analysis to the top 10 fund families with the largest assets under management (the individual schemes in these families may still have very little assets under manamgent) as listed on MoneyControl.com AMC Asset Monitor. Therefore we have only 1296 schems from 10 fund families in the final dataset.\n",
        "\n",
        "4. We define and compute additional normalized metrics for each such as: a. Risk score based on MoneyControl risk rating - between 0 and 1 b. CRISIL Rating (accreditation agency rating) depicting trustworthiness of fund scheme - between 0 and 1 c. Ratio of AUM for fund scheme relative to AUM of fund family to which it belongs depicting the confidence that the fund family has in the scheme - between 0 and 1 d. Fund performance relative to category performance - either 0 (if fund performance less than category performance) or 1 (if fund performance greater than category performance) (calculated for each time horizon) e. Volatility in fund scheme's category as ratio of category's worst to best performance - between 0 and 1 (calculated for each time horizon)\n",
        "\n",
        "5. We use an Imputer for preprocessing and replace any NaN or missing values with 0."
      ]
    },
    {
      "metadata": {
        "id": "U8EaPuPBjNcH",
        "colab_type": "text"
      },
      "cell_type": "markdown",
      "source": [
        "# Data Processing Pipeline\n",
        "\n"
      ]
    },
    {
      "metadata": {
        "id": "INW4XiYCgbov",
        "colab_type": "code",
        "colab": {
          "base_uri": "https://localhost:8080/",
          "height": 139
        },
        "outputId": "9adebdbb-4930-4611-879f-26e2da784b74"
      },
      "cell_type": "code",
      "source": [
        "from bs4 import BeautifulSoup\n",
        "import requests, re, itertools, csv\n",
        "!pip install beautifulsoup\n",
        "!pip install lxml "
      ],
      "execution_count": 5,
      "outputs": [
        {
          "output_type": "stream",
          "text": [
            "Requirement already satisfied: beautifulsoup in /usr/local/lib/python2.7/dist-packages (3.2.1)\n",
            "Collecting lxml\n",
            "\u001b[?25l  Downloading https://files.pythonhosted.org/packages/e5/14/f4343239f955442da9da1919a99f7311bc5627522741bada61b2349c8def/lxml-4.2.5-cp27-cp27mu-manylinux1_x86_64.whl (5.8MB)\n",
            "\u001b[K    100% |████████████████████████████████| 5.8MB 3.8MB/s \n",
            "\u001b[?25hInstalling collected packages: lxml\n",
            "Successfully installed lxml-4.2.5\n"
          ],
          "name": "stdout"
        }
      ]
    },
    {
      "metadata": {
        "id": "yqzMLusmiohK",
        "colab_type": "text"
      },
      "cell_type": "markdown",
      "source": [
        ""
      ]
    },
    {
      "metadata": {
        "id": "qN1274zcgeoA",
        "colab_type": "code",
        "colab": {}
      },
      "cell_type": "code",
      "source": [
        "#\n",
        "# Build a dictionary of Mutual Fund families mapped to their AMFI IDs\n",
        "#\n",
        "response        = requests.get('https://www.amfiindia.com/research-information/other-data/scheme-details').text\n",
        "soup            = BeautifulSoup(response, 'html.parser')\n",
        "options         = soup.select('select#MFName > option')\n",
        "fund_id_dict    = {}"
      ],
      "execution_count": 0,
      "outputs": []
    },
    {
      "metadata": {
        "id": "M8giFv3ZgqPy",
        "colab_type": "code",
        "colab": {}
      },
      "cell_type": "code",
      "source": [
        "for option in options:\n",
        "    if option['value'].strip():\n",
        "        fund_id_dict[ unicode(option.string) ]  = option['value']\n"
      ],
      "execution_count": 0,
      "outputs": []
    },
    {
      "metadata": {
        "id": "WCW7NwkWh7TB",
        "colab_type": "code",
        "colab": {}
      },
      "cell_type": "code",
      "source": [
        "#\n",
        "# Get latest NAV and details for all mutual fund schemes published by AMFI\n",
        "#\n",
        "response    = requests.get('http://portal.amfiindia.com/spages/NAV0.txt').text\n",
        "raw_data    = [line for line in response.split('\\n') if line.strip()]\n"
      ],
      "execution_count": 0,
      "outputs": []
    },
    {
      "metadata": {
        "id": "BSe-aKQOiOen",
        "colab_type": "code",
        "colab": {}
      },
      "cell_type": "code",
      "source": [
        "## Headings come from the first line of the data\n",
        "headings    = [heading.strip() for heading in raw_data[0].split(';')]"
      ],
      "execution_count": 0,
      "outputs": []
    },
    {
      "metadata": {
        "id": "yaBYXLeeiGIw",
        "colab_type": "code",
        "colab": {}
      },
      "cell_type": "code",
      "source": [
        "# Add scheme classification, fund family name and fund family ID as headings\n",
        "headings.extend([\n",
        "    u'Scheme Classification',\n",
        "    u'Scheme Type',\n",
        "    u'Scheme Category',\n",
        "    u'Fund Family',\n",
        "    u'Fund ID',\n",
        "    u'Scheme Short Name'\n",
        "])\n"
      ],
      "execution_count": 0,
      "outputs": []
    },
    {
      "metadata": {
        "id": "DesJkgRBiH3w",
        "colab_type": "code",
        "colab": {}
      },
      "cell_type": "code",
      "source": [
        "final_data      = []\n",
        "check_next      = False\n",
        "mf_scheme_type  = u''\n",
        "mf_family       = u''"
      ],
      "execution_count": 0,
      "outputs": []
    },
    {
      "metadata": {
        "id": "MEbTyN9RiVIA",
        "colab_type": "code",
        "colab": {
          "base_uri": "https://localhost:8080/",
          "height": 231
        },
        "outputId": "0ec40c92-36d7-4828-cc91-202195ca4a37"
      },
      "cell_type": "code",
      "source": [
        "for line in raw_data[1:]:\n",
        "    if line.find(';') == -1:\n",
        "        if check_next:\n",
        "            mf_scheme_type  = mf_family.strip()\n",
        "            check_next      = False\n",
        "        else:\n",
        "            check_next      = True\n",
        "\n",
        "        mf_family   = line.strip()\n",
        "        \n",
        "    else:\n",
        "        check_next  = False\n",
        "        row = [element.strip() for element in line.split(';') ]\n",
        "        row.extend( [\n",
        "            mf_scheme_type,\n",
        "            re.search( r'(^.*)\\(',  mf_scheme_type).group(1),\n",
        "            re.search( r'\\((.*)\\)', mf_scheme_type).group(1),\n",
        "            mf_family,\n",
        "            fund_id_dict[mf_family],\n",
        "            ' '.join( row[3].split() ).split('-')[0].strip()\n",
        "        ] )\n",
        "        \n",
        "        final_data.append( dict( itertools.izip( headings, row ) ) )\n",
        "        "
      ],
      "execution_count": 16,
      "outputs": [
        {
          "output_type": "error",
          "ename": "AttributeError",
          "evalue": "ignored",
          "traceback": [
            "\u001b[0;31m\u001b[0m",
            "\u001b[0;31mAttributeError\u001b[0mTraceback (most recent call last)",
            "\u001b[0;32m<ipython-input-16-5d7d8d6700ed>\u001b[0m in \u001b[0;36m<module>\u001b[0;34m()\u001b[0m\n\u001b[1;32m     16\u001b[0m         row.extend( [\n\u001b[1;32m     17\u001b[0m             \u001b[0mmf_scheme_type\u001b[0m\u001b[0;34m,\u001b[0m\u001b[0;34m\u001b[0m\u001b[0m\n\u001b[0;32m---> 18\u001b[0;31m             \u001b[0mre\u001b[0m\u001b[0;34m.\u001b[0m\u001b[0msearch\u001b[0m\u001b[0;34m(\u001b[0m \u001b[0;34mr'(^.*)\\('\u001b[0m\u001b[0;34m,\u001b[0m  \u001b[0mmf_scheme_type\u001b[0m\u001b[0;34m)\u001b[0m\u001b[0;34m.\u001b[0m\u001b[0mgroup\u001b[0m\u001b[0;34m(\u001b[0m\u001b[0;36m1\u001b[0m\u001b[0;34m)\u001b[0m\u001b[0;34m,\u001b[0m\u001b[0;34m\u001b[0m\u001b[0m\n\u001b[0m\u001b[1;32m     19\u001b[0m             \u001b[0mre\u001b[0m\u001b[0;34m.\u001b[0m\u001b[0msearch\u001b[0m\u001b[0;34m(\u001b[0m \u001b[0;34mr'\\((.*)\\)'\u001b[0m\u001b[0;34m,\u001b[0m \u001b[0mmf_scheme_type\u001b[0m\u001b[0;34m)\u001b[0m\u001b[0;34m.\u001b[0m\u001b[0mgroup\u001b[0m\u001b[0;34m(\u001b[0m\u001b[0;36m1\u001b[0m\u001b[0;34m)\u001b[0m\u001b[0;34m,\u001b[0m\u001b[0;34m\u001b[0m\u001b[0m\n\u001b[1;32m     20\u001b[0m             \u001b[0mmf_family\u001b[0m\u001b[0;34m,\u001b[0m\u001b[0;34m\u001b[0m\u001b[0m\n",
            "\u001b[0;31mAttributeError\u001b[0m: 'NoneType' object has no attribute 'group'"
          ]
        }
      ]
    },
    {
      "metadata": {
        "id": "5Gce7rSOiXLA",
        "colab_type": "code",
        "colab": {}
      },
      "cell_type": "code",
      "source": [
        "# Clean the data\n",
        "for idx, row in enumerate(final_data):\n",
        "    # Step 1: In the scheme name,\n",
        "    # Convert multiple spaces into one\n",
        "    final_data[idx]['Scheme Name']  = ' '.join( row['Scheme Name'].split() )\n",
        "    \n",
        "\n",
        "# Write the final data as CSV delimited by ;\n",
        "with open('amfi.csv', 'wb') as f:  # Just use 'w' mode in 3.x\n",
        "    w = csv.DictWriter(f, headings, delimiter = ';')\n",
        "    w.writeheader()\n",
        "    w.writerows(final_data)"
      ],
      "execution_count": 0,
      "outputs": []
    }
  ]
}
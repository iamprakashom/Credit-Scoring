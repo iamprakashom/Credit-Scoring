{
  "nbformat": 4,
  "nbformat_minor": 0,
  "metadata": {
    "colab": {
      "name": "Hello, Colaboratory",
      "version": "0.3.2",
      "provenance": [],
      "collapsed_sections": [],
      "include_colab_link": true
    },
    "kernelspec": {
      "display_name": "Python 3",
      "name": "python3"
    }
  },
  "cells": [
    {
      "cell_type": "markdown",
      "metadata": {
        "id": "view-in-github",
        "colab_type": "text"
      },
      "source": [
        "<a href=\"https://colab.research.google.com/github/iamprakashom/Credit-Scoring/blob/master/Credit%20Scoring.ipynb\" target=\"_parent\"><img src=\"https://colab.research.google.com/assets/colab-badge.svg\" alt=\"Open In Colab\"/></a>"
      ]
    },
    {
      "metadata": {
        "id": "Hi8JDRt_1in6",
        "colab_type": "code",
        "colab": {}
      },
      "cell_type": "code",
      "source": [
        "import pandas as pd, numpy as np\n",
        "import datetime\n",
        "\n",
        "from sklearn.model_selection import train_test_split\n",
        "from sklearn.preprocessing import OneHotEncoder, LabelBinarizer\n",
        "from sklearn.ensemble import GradientBoostingClassifier, RandomForestClassifier\n",
        "from sklearn.linear_model import LogisticRegression\n",
        "from sklearn.tree import DecisionTreeClassifier\n",
        "from sklearn.metrics import roc_curve, auc, confusion_matrix\n",
        "from sklearn.model_selection import GridSearchCV\n",
        "\n",
        "import sklearn\n",
        "from sklearn_pandas import DataFrameMapper\n",
        "\n",
        "import matplotlib.pyplot as plt"
      ],
      "execution_count": 0,
      "outputs": []
    },
    {
      "metadata": {
        "id": "jcUXGP9e2E-K",
        "colab_type": "code",
        "colab": {}
      },
      "cell_type": "code",
      "source": [
        ""
      ],
      "execution_count": 0,
      "outputs": []
    },
    {
      "metadata": {
        "colab_type": "text",
        "id": "S9GW-n-oYWIj"
      },
      "cell_type": "markdown",
      "source": [
        "Colaboratory allows you to execute TensorFlow code in your browser with a single click. The example below adds two matrices.\n",
        "\n",
        "$\\begin{bmatrix}\n",
        "  1. & 1. & 1. \\\\\n",
        "  1. & 1. & 1. \\\\\n",
        "\\end{bmatrix} +\n",
        "\\begin{bmatrix}\n",
        "  1. & 2. & 3. \\\\\n",
        "  4. & 5. & 6. \\\\\n",
        "\\end{bmatrix} =\n",
        "\\begin{bmatrix}\n",
        "  2. & 3. & 4. \\\\\n",
        "  5. & 6. & 7. \\\\\n",
        "\\end{bmatrix}$"
      ]
    },
    {
      "metadata": {
        "colab_type": "code",
        "id": "oYZkU7ZN3CL0",
        "outputId": "b9cd650b-8d60-46c5-d9a9-3e005bc4bf83",
        "colab": {
          "base_uri": "https://localhost:8080/",
          "height": 51
        }
      },
      "cell_type": "code",
      "source": [
        "IN_DATAFILE='https://s3.amazonaws.com/rorodata-datasets/lending-club-data.csv'\n",
        "loans = pd.read_csv(IN_DATAFILE, infer_datetime_format = True)"
      ],
      "execution_count": 4,
      "outputs": [
        {
          "output_type": "stream",
          "text": [
            "/usr/local/lib/python3.6/dist-packages/IPython/core/interactiveshell.py:2718: DtypeWarning: Columns (19,47) have mixed types. Specify dtype option on import or set low_memory=False.\n",
            "  interactivity=interactivity, compiler=compiler, result=result)\n"
          ],
          "name": "stderr"
        }
      ]
    },
    {
      "metadata": {
        "colab_type": "text",
        "id": "rYs5mx2JZkmy"
      },
      "cell_type": "markdown",
      "source": [
        "Colaboratory includes widely used libraries like [matplotlib](https://matplotlib.org/), simplifying visualization."
      ]
    },
    {
      "metadata": {
        "colab_type": "code",
        "id": "xqrc5C-IaA5J",
        "outputId": "58e00788-0ff2-418e-b378-c1508b403a2b",
        "colab": {
          "base_uri": "https://localhost:8080/",
          "height": 338
        }
      },
      "cell_type": "code",
      "source": [
        "loans.head()"
      ],
      "execution_count": 5,
      "outputs": [
        {
          "output_type": "execute_result",
          "data": {
            "text/html": [
              "<div>\n",
              "<style scoped>\n",
              "    .dataframe tbody tr th:only-of-type {\n",
              "        vertical-align: middle;\n",
              "    }\n",
              "\n",
              "    .dataframe tbody tr th {\n",
              "        vertical-align: top;\n",
              "    }\n",
              "\n",
              "    .dataframe thead th {\n",
              "        text-align: right;\n",
              "    }\n",
              "</style>\n",
              "<table border=\"1\" class=\"dataframe\">\n",
              "  <thead>\n",
              "    <tr style=\"text-align: right;\">\n",
              "      <th></th>\n",
              "      <th>id</th>\n",
              "      <th>member_id</th>\n",
              "      <th>loan_amnt</th>\n",
              "      <th>funded_amnt</th>\n",
              "      <th>funded_amnt_inv</th>\n",
              "      <th>term</th>\n",
              "      <th>int_rate</th>\n",
              "      <th>installment</th>\n",
              "      <th>grade</th>\n",
              "      <th>sub_grade</th>\n",
              "      <th>...</th>\n",
              "      <th>sub_grade_num</th>\n",
              "      <th>delinq_2yrs_zero</th>\n",
              "      <th>pub_rec_zero</th>\n",
              "      <th>collections_12_mths_zero</th>\n",
              "      <th>short_emp</th>\n",
              "      <th>payment_inc_ratio</th>\n",
              "      <th>final_d</th>\n",
              "      <th>last_delinq_none</th>\n",
              "      <th>last_record_none</th>\n",
              "      <th>last_major_derog_none</th>\n",
              "    </tr>\n",
              "  </thead>\n",
              "  <tbody>\n",
              "    <tr>\n",
              "      <th>0</th>\n",
              "      <td>1077501</td>\n",
              "      <td>1296599</td>\n",
              "      <td>5000</td>\n",
              "      <td>5000</td>\n",
              "      <td>4975</td>\n",
              "      <td>36 months</td>\n",
              "      <td>10.65</td>\n",
              "      <td>162.87</td>\n",
              "      <td>B</td>\n",
              "      <td>B2</td>\n",
              "      <td>...</td>\n",
              "      <td>0.4</td>\n",
              "      <td>1.0</td>\n",
              "      <td>1.0</td>\n",
              "      <td>1.0</td>\n",
              "      <td>0</td>\n",
              "      <td>8.14350</td>\n",
              "      <td>20141201T000000</td>\n",
              "      <td>1</td>\n",
              "      <td>1</td>\n",
              "      <td>1</td>\n",
              "    </tr>\n",
              "    <tr>\n",
              "      <th>1</th>\n",
              "      <td>1077430</td>\n",
              "      <td>1314167</td>\n",
              "      <td>2500</td>\n",
              "      <td>2500</td>\n",
              "      <td>2500</td>\n",
              "      <td>60 months</td>\n",
              "      <td>15.27</td>\n",
              "      <td>59.83</td>\n",
              "      <td>C</td>\n",
              "      <td>C4</td>\n",
              "      <td>...</td>\n",
              "      <td>0.8</td>\n",
              "      <td>1.0</td>\n",
              "      <td>1.0</td>\n",
              "      <td>1.0</td>\n",
              "      <td>1</td>\n",
              "      <td>2.39320</td>\n",
              "      <td>20161201T000000</td>\n",
              "      <td>1</td>\n",
              "      <td>1</td>\n",
              "      <td>1</td>\n",
              "    </tr>\n",
              "    <tr>\n",
              "      <th>2</th>\n",
              "      <td>1077175</td>\n",
              "      <td>1313524</td>\n",
              "      <td>2400</td>\n",
              "      <td>2400</td>\n",
              "      <td>2400</td>\n",
              "      <td>36 months</td>\n",
              "      <td>15.96</td>\n",
              "      <td>84.33</td>\n",
              "      <td>C</td>\n",
              "      <td>C5</td>\n",
              "      <td>...</td>\n",
              "      <td>1.0</td>\n",
              "      <td>1.0</td>\n",
              "      <td>1.0</td>\n",
              "      <td>1.0</td>\n",
              "      <td>0</td>\n",
              "      <td>8.25955</td>\n",
              "      <td>20141201T000000</td>\n",
              "      <td>1</td>\n",
              "      <td>1</td>\n",
              "      <td>1</td>\n",
              "    </tr>\n",
              "    <tr>\n",
              "      <th>3</th>\n",
              "      <td>1076863</td>\n",
              "      <td>1277178</td>\n",
              "      <td>10000</td>\n",
              "      <td>10000</td>\n",
              "      <td>10000</td>\n",
              "      <td>36 months</td>\n",
              "      <td>13.49</td>\n",
              "      <td>339.31</td>\n",
              "      <td>C</td>\n",
              "      <td>C1</td>\n",
              "      <td>...</td>\n",
              "      <td>0.2</td>\n",
              "      <td>1.0</td>\n",
              "      <td>1.0</td>\n",
              "      <td>1.0</td>\n",
              "      <td>0</td>\n",
              "      <td>8.27585</td>\n",
              "      <td>20141201T000000</td>\n",
              "      <td>0</td>\n",
              "      <td>1</td>\n",
              "      <td>1</td>\n",
              "    </tr>\n",
              "    <tr>\n",
              "      <th>4</th>\n",
              "      <td>1075269</td>\n",
              "      <td>1311441</td>\n",
              "      <td>5000</td>\n",
              "      <td>5000</td>\n",
              "      <td>5000</td>\n",
              "      <td>36 months</td>\n",
              "      <td>7.90</td>\n",
              "      <td>156.46</td>\n",
              "      <td>A</td>\n",
              "      <td>A4</td>\n",
              "      <td>...</td>\n",
              "      <td>0.8</td>\n",
              "      <td>1.0</td>\n",
              "      <td>1.0</td>\n",
              "      <td>1.0</td>\n",
              "      <td>0</td>\n",
              "      <td>5.21533</td>\n",
              "      <td>20141201T000000</td>\n",
              "      <td>1</td>\n",
              "      <td>1</td>\n",
              "      <td>1</td>\n",
              "    </tr>\n",
              "  </tbody>\n",
              "</table>\n",
              "<p>5 rows × 68 columns</p>\n",
              "</div>"
            ],
            "text/plain": [
              "        id  member_id  loan_amnt  funded_amnt  funded_amnt_inv        term  \\\n",
              "0  1077501    1296599       5000         5000             4975   36 months   \n",
              "1  1077430    1314167       2500         2500             2500   60 months   \n",
              "2  1077175    1313524       2400         2400             2400   36 months   \n",
              "3  1076863    1277178      10000        10000            10000   36 months   \n",
              "4  1075269    1311441       5000         5000             5000   36 months   \n",
              "\n",
              "   int_rate  installment grade sub_grade          ...          sub_grade_num  \\\n",
              "0     10.65       162.87     B        B2          ...                    0.4   \n",
              "1     15.27        59.83     C        C4          ...                    0.8   \n",
              "2     15.96        84.33     C        C5          ...                    1.0   \n",
              "3     13.49       339.31     C        C1          ...                    0.2   \n",
              "4      7.90       156.46     A        A4          ...                    0.8   \n",
              "\n",
              "  delinq_2yrs_zero pub_rec_zero  collections_12_mths_zero short_emp  \\\n",
              "0              1.0          1.0                       1.0         0   \n",
              "1              1.0          1.0                       1.0         1   \n",
              "2              1.0          1.0                       1.0         0   \n",
              "3              1.0          1.0                       1.0         0   \n",
              "4              1.0          1.0                       1.0         0   \n",
              "\n",
              "  payment_inc_ratio          final_d last_delinq_none last_record_none  \\\n",
              "0           8.14350  20141201T000000                1                1   \n",
              "1           2.39320  20161201T000000                1                1   \n",
              "2           8.25955  20141201T000000                1                1   \n",
              "3           8.27585  20141201T000000                0                1   \n",
              "4           5.21533  20141201T000000                1                1   \n",
              "\n",
              "  last_major_derog_none  \n",
              "0                     1  \n",
              "1                     1  \n",
              "2                     1  \n",
              "3                     1  \n",
              "4                     1  \n",
              "\n",
              "[5 rows x 68 columns]"
            ]
          },
          "metadata": {
            "tags": []
          },
          "execution_count": 5
        }
      ]
    },
    {
      "metadata": {
        "id": "1Hab3qy53NoX",
        "colab_type": "code",
        "colab": {
          "base_uri": "https://localhost:8080/",
          "height": 323
        },
        "outputId": "9d5aa7e2-5e4a-4d44-a7b1-371d220c7d60"
      },
      "cell_type": "code",
      "source": [
        "loans.columns"
      ],
      "execution_count": 8,
      "outputs": [
        {
          "output_type": "execute_result",
          "data": {
            "text/plain": [
              "Index(['id', 'member_id', 'loan_amnt', 'funded_amnt', 'funded_amnt_inv',\n",
              "       'term', 'int_rate', 'installment', 'grade', 'sub_grade', 'emp_title',\n",
              "       'emp_length', 'home_ownership', 'annual_inc', 'is_inc_v', 'issue_d',\n",
              "       'loan_status', 'pymnt_plan', 'url', 'desc', 'purpose', 'title',\n",
              "       'zip_code', 'addr_state', 'dti', 'delinq_2yrs', 'earliest_cr_line',\n",
              "       'inq_last_6mths', 'mths_since_last_delinq', 'mths_since_last_record',\n",
              "       'open_acc', 'pub_rec', 'revol_bal', 'revol_util', 'total_acc',\n",
              "       'initial_list_status', 'out_prncp', 'out_prncp_inv', 'total_pymnt',\n",
              "       'total_pymnt_inv', 'total_rec_prncp', 'total_rec_int',\n",
              "       'total_rec_late_fee', 'recoveries', 'collection_recovery_fee',\n",
              "       'last_pymnt_d', 'last_pymnt_amnt', 'next_pymnt_d', 'last_credit_pull_d',\n",
              "       'collections_12_mths_ex_med', 'mths_since_last_major_derog',\n",
              "       'policy_code', 'not_compliant', 'status', 'inactive_loans', 'bad_loans',\n",
              "       'emp_length_num', 'grade_num', 'sub_grade_num', 'delinq_2yrs_zero',\n",
              "       'pub_rec_zero', 'collections_12_mths_zero', 'short_emp',\n",
              "       'payment_inc_ratio', 'final_d', 'last_delinq_none', 'last_record_none',\n",
              "       'last_major_derog_none'],\n",
              "      dtype='object')"
            ]
          },
          "metadata": {
            "tags": []
          },
          "execution_count": 8
        }
      ]
    },
    {
      "metadata": {
        "colab_type": "text",
        "id": "AN_LRQ9NkOjs"
      },
      "cell_type": "markdown",
      "source": [
        "**Choosing Relevant Features**\n",
        "- The dataframe loans has 68 columns of data. However, we shall work with only those columns that we find relevant for our model\n",
        "\n",
        " We want to use these features to predict the column bad_loan (1 for bad loan, 0 for otherwise)"
      ]
    },
    {
      "metadata": {
        "colab_type": "code",
        "id": "FlQq0SUepQbd",
        "colab": {}
      },
      "cell_type": "code",
      "source": [
        "features = ['grade',                     # grade of the loan (categorical)\n",
        "            'sub_grade_num',             # sub-grade of the loan as a number from 0 to 1\n",
        "            'short_emp',                 # one year or less of employment\n",
        "            'emp_length_num',            # number of years of employment\n",
        "            'home_ownership',            # home_ownership status: own, mortgage or rent\n",
        "            'dti',                       # debt to income ratio\n",
        "            'purpose',                   # the purpose of the loan\n",
        "            'payment_inc_ratio',         # ratio of the monthly payment to income\n",
        "            'delinq_2yrs',               # number of delinquincies \n",
        "            'delinq_2yrs_zero',          # no delinquincies in last 2 years\n",
        "            'inq_last_6mths',            # number of creditor inquiries in last 6 months\n",
        "            'last_delinq_none',          # has borrower had a delinquincy\n",
        "            'last_major_derog_none',     # has borrower had 90 day or worse rating\n",
        "            'open_acc',                  # number of open credit accounts\n",
        "            'pub_rec',                   # number of derogatory public records\n",
        "            'pub_rec_zero',              # no derogatory public records\n",
        "            'revol_util',                # percent of available credit being used\n",
        "           ]\n",
        "response='bad_loans'"
      ],
      "execution_count": 0,
      "outputs": []
    },
    {
      "metadata": {
        "id": "w4kyoTlk1xJa",
        "colab_type": "code",
        "colab": {}
      },
      "cell_type": "code",
      "source": [
        "clean_data=loans[features+[response]].dropna()"
      ],
      "execution_count": 0,
      "outputs": []
    },
    {
      "metadata": {
        "id": "sg_GNEvZ4X5U",
        "colab_type": "code",
        "colab": {
          "base_uri": "https://localhost:8080/",
          "height": 224
        },
        "outputId": "d9d5a8a7-c476-4cee-8a23-161ae70aa6c0"
      },
      "cell_type": "code",
      "source": [
        "clean_data.head()"
      ],
      "execution_count": 10,
      "outputs": [
        {
          "output_type": "execute_result",
          "data": {
            "text/html": [
              "<div>\n",
              "<style scoped>\n",
              "    .dataframe tbody tr th:only-of-type {\n",
              "        vertical-align: middle;\n",
              "    }\n",
              "\n",
              "    .dataframe tbody tr th {\n",
              "        vertical-align: top;\n",
              "    }\n",
              "\n",
              "    .dataframe thead th {\n",
              "        text-align: right;\n",
              "    }\n",
              "</style>\n",
              "<table border=\"1\" class=\"dataframe\">\n",
              "  <thead>\n",
              "    <tr style=\"text-align: right;\">\n",
              "      <th></th>\n",
              "      <th>grade</th>\n",
              "      <th>sub_grade_num</th>\n",
              "      <th>short_emp</th>\n",
              "      <th>emp_length_num</th>\n",
              "      <th>home_ownership</th>\n",
              "      <th>dti</th>\n",
              "      <th>purpose</th>\n",
              "      <th>payment_inc_ratio</th>\n",
              "      <th>delinq_2yrs</th>\n",
              "      <th>delinq_2yrs_zero</th>\n",
              "      <th>inq_last_6mths</th>\n",
              "      <th>last_delinq_none</th>\n",
              "      <th>last_major_derog_none</th>\n",
              "      <th>open_acc</th>\n",
              "      <th>pub_rec</th>\n",
              "      <th>pub_rec_zero</th>\n",
              "      <th>revol_util</th>\n",
              "      <th>bad_loans</th>\n",
              "    </tr>\n",
              "  </thead>\n",
              "  <tbody>\n",
              "    <tr>\n",
              "      <th>0</th>\n",
              "      <td>B</td>\n",
              "      <td>0.4</td>\n",
              "      <td>0</td>\n",
              "      <td>11</td>\n",
              "      <td>RENT</td>\n",
              "      <td>27.65</td>\n",
              "      <td>credit_card</td>\n",
              "      <td>8.14350</td>\n",
              "      <td>0.0</td>\n",
              "      <td>1.0</td>\n",
              "      <td>1.0</td>\n",
              "      <td>1</td>\n",
              "      <td>1</td>\n",
              "      <td>3.0</td>\n",
              "      <td>0.0</td>\n",
              "      <td>1.0</td>\n",
              "      <td>83.7</td>\n",
              "      <td>0</td>\n",
              "    </tr>\n",
              "    <tr>\n",
              "      <th>1</th>\n",
              "      <td>C</td>\n",
              "      <td>0.8</td>\n",
              "      <td>1</td>\n",
              "      <td>1</td>\n",
              "      <td>RENT</td>\n",
              "      <td>1.00</td>\n",
              "      <td>car</td>\n",
              "      <td>2.39320</td>\n",
              "      <td>0.0</td>\n",
              "      <td>1.0</td>\n",
              "      <td>5.0</td>\n",
              "      <td>1</td>\n",
              "      <td>1</td>\n",
              "      <td>3.0</td>\n",
              "      <td>0.0</td>\n",
              "      <td>1.0</td>\n",
              "      <td>9.4</td>\n",
              "      <td>1</td>\n",
              "    </tr>\n",
              "    <tr>\n",
              "      <th>2</th>\n",
              "      <td>C</td>\n",
              "      <td>1.0</td>\n",
              "      <td>0</td>\n",
              "      <td>11</td>\n",
              "      <td>RENT</td>\n",
              "      <td>8.72</td>\n",
              "      <td>small_business</td>\n",
              "      <td>8.25955</td>\n",
              "      <td>0.0</td>\n",
              "      <td>1.0</td>\n",
              "      <td>2.0</td>\n",
              "      <td>1</td>\n",
              "      <td>1</td>\n",
              "      <td>2.0</td>\n",
              "      <td>0.0</td>\n",
              "      <td>1.0</td>\n",
              "      <td>98.5</td>\n",
              "      <td>0</td>\n",
              "    </tr>\n",
              "    <tr>\n",
              "      <th>3</th>\n",
              "      <td>C</td>\n",
              "      <td>0.2</td>\n",
              "      <td>0</td>\n",
              "      <td>11</td>\n",
              "      <td>RENT</td>\n",
              "      <td>20.00</td>\n",
              "      <td>other</td>\n",
              "      <td>8.27585</td>\n",
              "      <td>0.0</td>\n",
              "      <td>1.0</td>\n",
              "      <td>1.0</td>\n",
              "      <td>0</td>\n",
              "      <td>1</td>\n",
              "      <td>10.0</td>\n",
              "      <td>0.0</td>\n",
              "      <td>1.0</td>\n",
              "      <td>21.0</td>\n",
              "      <td>0</td>\n",
              "    </tr>\n",
              "    <tr>\n",
              "      <th>4</th>\n",
              "      <td>A</td>\n",
              "      <td>0.8</td>\n",
              "      <td>0</td>\n",
              "      <td>4</td>\n",
              "      <td>RENT</td>\n",
              "      <td>11.20</td>\n",
              "      <td>wedding</td>\n",
              "      <td>5.21533</td>\n",
              "      <td>0.0</td>\n",
              "      <td>1.0</td>\n",
              "      <td>3.0</td>\n",
              "      <td>1</td>\n",
              "      <td>1</td>\n",
              "      <td>9.0</td>\n",
              "      <td>0.0</td>\n",
              "      <td>1.0</td>\n",
              "      <td>28.3</td>\n",
              "      <td>0</td>\n",
              "    </tr>\n",
              "  </tbody>\n",
              "</table>\n",
              "</div>"
            ],
            "text/plain": [
              "  grade  sub_grade_num  short_emp  emp_length_num home_ownership    dti  \\\n",
              "0     B            0.4          0              11           RENT  27.65   \n",
              "1     C            0.8          1               1           RENT   1.00   \n",
              "2     C            1.0          0              11           RENT   8.72   \n",
              "3     C            0.2          0              11           RENT  20.00   \n",
              "4     A            0.8          0               4           RENT  11.20   \n",
              "\n",
              "          purpose  payment_inc_ratio  delinq_2yrs  delinq_2yrs_zero  \\\n",
              "0     credit_card            8.14350          0.0               1.0   \n",
              "1             car            2.39320          0.0               1.0   \n",
              "2  small_business            8.25955          0.0               1.0   \n",
              "3           other            8.27585          0.0               1.0   \n",
              "4         wedding            5.21533          0.0               1.0   \n",
              "\n",
              "   inq_last_6mths  last_delinq_none  last_major_derog_none  open_acc  pub_rec  \\\n",
              "0             1.0                 1                      1       3.0      0.0   \n",
              "1             5.0                 1                      1       3.0      0.0   \n",
              "2             2.0                 1                      1       2.0      0.0   \n",
              "3             1.0                 0                      1      10.0      0.0   \n",
              "4             3.0                 1                      1       9.0      0.0   \n",
              "\n",
              "   pub_rec_zero  revol_util  bad_loans  \n",
              "0           1.0        83.7          0  \n",
              "1           1.0         9.4          1  \n",
              "2           1.0        98.5          0  \n",
              "3           1.0        21.0          0  \n",
              "4           1.0        28.3          0  "
            ]
          },
          "metadata": {
            "tags": []
          },
          "execution_count": 10
        }
      ]
    },
    {
      "metadata": {
        "id": "dcH_T50P5lza",
        "colab_type": "text"
      },
      "cell_type": "markdown",
      "source": [
        "**Preprocessing**"
      ]
    },
    {
      "metadata": {
        "id": "KO3T2frG5h6S",
        "colab_type": "text"
      },
      "cell_type": "markdown",
      "source": [
        "One-Hot Encoding for categorical variable."
      ]
    },
    {
      "metadata": {
        "id": "Q9JoVWk05yDq",
        "colab_type": "code",
        "colab": {}
      },
      "cell_type": "code",
      "source": [
        "numerical_cols=['sub_grade_num', 'short_emp', 'emp_length_num','dti', 'payment_inc_ratio', 'delinq_2yrs', \\\n",
        "                'delinq_2yrs_zero', 'inq_last_6mths', 'last_delinq_none', 'last_major_derog_none', 'open_acc',\\\n",
        "                'pub_rec', 'pub_rec_zero','revol_util']\n",
        "\n",
        "categorical_cols=['grade', 'home_ownership', 'purpose']"
      ],
      "execution_count": 0,
      "outputs": []
    },
    {
      "metadata": {
        "id": "Tk6O8p1Q53Pa",
        "colab_type": "code",
        "colab": {}
      },
      "cell_type": "code",
      "source": [
        "mapper = DataFrameMapper([\n",
        "('grade',sklearn.preprocessing.LabelBinarizer()),\n",
        "('home_ownership', sklearn.preprocessing.LabelBinarizer()),\n",
        "('purpose', sklearn.preprocessing.LabelBinarizer()),\n",
        "])\n",
        "\n",
        "X1=mapper.fit_transform(clean_data)\n",
        "\n",
        "\n",
        "X2=np.array(clean_data[numerical_cols])\n",
        "\n",
        "\n",
        "X = np.hstack((X1,X2)) #Combines X1 and X2 side by side, i.e. stacks them horizontally\n",
        "y=np.array(clean_data['bad_loans'])"
      ],
      "execution_count": 0,
      "outputs": []
    },
    {
      "metadata": {
        "id": "gqZCmH8N6Nla",
        "colab_type": "code",
        "colab": {}
      },
      "cell_type": "code",
      "source": [
        "# Train/Test Split\n",
        "X_train, X_test, y_train, y_test = train_test_split(X, y, test_size=0.33, random_state=100, stratify=y)"
      ],
      "execution_count": 0,
      "outputs": []
    },
    {
      "metadata": {
        "id": "oP9vnLG26rpQ",
        "colab_type": "text"
      },
      "cell_type": "markdown",
      "source": [
        "** Logistic Regression model**"
      ]
    },
    {
      "metadata": {
        "id": "6okHp2wK6g0a",
        "colab_type": "code",
        "colab": {
          "base_uri": "https://localhost:8080/",
          "height": 34
        },
        "outputId": "fdd93c52-6e3b-4733-cdc6-1be1f5401324"
      },
      "cell_type": "code",
      "source": [
        "log_lm = LogisticRegression()\n",
        "log_lm.fit(X_train, y_train)\n",
        "log_lm.score(X_test, y_test)"
      ],
      "execution_count": 22,
      "outputs": [
        {
          "output_type": "execute_result",
          "data": {
            "text/plain": [
              "0.8118464314850066"
            ]
          },
          "metadata": {
            "tags": []
          },
          "execution_count": 22
        }
      ]
    },
    {
      "metadata": {
        "id": "3hSqUy0S61rp",
        "colab_type": "text"
      },
      "cell_type": "markdown",
      "source": [
        "** Gradient Boosting model**"
      ]
    },
    {
      "metadata": {
        "id": "_qa0pSHX6vf5",
        "colab_type": "code",
        "colab": {
          "base_uri": "https://localhost:8080/",
          "height": 34
        },
        "outputId": "7ef0cffd-9b23-4558-fccf-59f7588ba72d"
      },
      "cell_type": "code",
      "source": [
        "grd = GradientBoostingClassifier(n_estimators=100)\n",
        "grd.fit(X_train, y_train)\n",
        "grd.score(X_test, y_test)"
      ],
      "execution_count": 23,
      "outputs": [
        {
          "output_type": "execute_result",
          "data": {
            "text/plain": [
              "0.8114261699339942"
            ]
          },
          "metadata": {
            "tags": []
          },
          "execution_count": 23
        }
      ]
    },
    {
      "metadata": {
        "id": "jPUZjRxw7BUA",
        "colab_type": "text"
      },
      "cell_type": "markdown",
      "source": [
        "**Decision Tree model**"
      ]
    },
    {
      "metadata": {
        "id": "yQrH5HKT7Aho",
        "colab_type": "code",
        "colab": {
          "base_uri": "https://localhost:8080/",
          "height": 34
        },
        "outputId": "6cf52cb6-0283-4cc4-edf6-100a2282cb64"
      },
      "cell_type": "code",
      "source": [
        "dtree=DecisionTreeClassifier()\n",
        "parameters = {'max_depth':[5, 10, 15, 20, 25, 32]}\n",
        "dtree_gs = GridSearchCV(dtree, parameters, cv=5)\n",
        "dtree_gs.fit(X_train, y_train)\n",
        "print(dtree_gs.score(X_test, y_test))"
      ],
      "execution_count": 30,
      "outputs": [
        {
          "output_type": "stream",
          "text": [
            "0.8104125979580233\n"
          ],
          "name": "stdout"
        }
      ]
    },
    {
      "metadata": {
        "id": "ZH3UdVOr7Rq3",
        "colab_type": "text"
      },
      "cell_type": "markdown",
      "source": [
        "** Random Forest model**"
      ]
    },
    {
      "metadata": {
        "id": "F90HUrVo7O-I",
        "colab_type": "code",
        "colab": {
          "base_uri": "https://localhost:8080/",
          "height": 34
        },
        "outputId": "b2334cdd-db70-454b-9cbe-a95b2594ec39"
      },
      "cell_type": "code",
      "source": [
        "rf=RandomForestClassifier()\n",
        "parameters = {'max_depth':[5, 15], 'n_estimators':[10,30]}\n",
        "rf_gs = GridSearchCV(rf, parameters)\n",
        "rf_gs.fit(X_train, y_train)\n",
        "print(rf_gs.score(X_test, y_test))"
      ],
      "execution_count": 24,
      "outputs": [
        {
          "output_type": "stream",
          "text": [
            "0.8111542359892215\n"
          ],
          "name": "stdout"
        }
      ]
    },
    {
      "metadata": {
        "id": "Y8emeOz48RIu",
        "colab_type": "code",
        "colab": {}
      },
      "cell_type": "code",
      "source": [
        ""
      ],
      "execution_count": 0,
      "outputs": []
    },
    {
      "metadata": {
        "id": "0fbbqbgY7muO",
        "colab_type": "text"
      },
      "cell_type": "markdown",
      "source": [
        "Sample loan application"
      ]
    },
    {
      "metadata": {
        "id": "EGrCChsn7j6v",
        "colab_type": "code",
        "colab": {}
      },
      "cell_type": "code",
      "source": [
        "# Let's try it out on this sample application\n",
        "a={ 'delinq_2yrs': 0.0,\n",
        " 'delinq_2yrs_zero': 1.0,\n",
        " 'dti': 8.7200000000000006,\n",
        " 'emp_length_num': 0,\n",
        " 'grade': 'F',\n",
        " 'home_ownership': 'RENT',\n",
        " 'inq_last_6mths': 3.0,\n",
        " 'last_delinq_none': 1,\n",
        " 'last_major_derog_none': 1,\n",
        " 'open_acc': 2.0,\n",
        " 'payment_inc_ratio': 4.5,\n",
        " 'pub_rec': 0.0,\n",
        " 'pub_rec_zero': 1.0,\n",
        " 'purpose': 'vacation',\n",
        " 'revol_util': 98.5,\n",
        " 'short_emp': 0,\n",
        " 'sub_grade_num': 1.0}"
      ],
      "execution_count": 0,
      "outputs": []
    },
    {
      "metadata": {
        "id": "hoQIWZKk7riX",
        "colab_type": "code",
        "colab": {}
      },
      "cell_type": "code",
      "source": [
        "def preProcess(a):\n",
        "    data=list(a.values())\n",
        "    colz=list(a.keys())\n",
        "    dfx=pd.DataFrame(data=[data], columns=colz)\n",
        "    dfx\n",
        "\n",
        "    XX1=mapper.transform(dfx)\n",
        "    XX2=dfx[numerical_cols]\n",
        "    XX = np.hstack((XX1,XX2))\n",
        "    return XX"
      ],
      "execution_count": 0,
      "outputs": []
    },
    {
      "metadata": {
        "id": "Y3lD8jGX7thn",
        "colab_type": "code",
        "colab": {}
      },
      "cell_type": "code",
      "source": [
        "XX=preProcess(a)"
      ],
      "execution_count": 0,
      "outputs": []
    },
    {
      "metadata": {
        "id": "FGzvODmo7wXY",
        "colab_type": "code",
        "colab": {
          "base_uri": "https://localhost:8080/",
          "height": 34
        },
        "outputId": "51fecaa8-b3c8-4208-e805-ea7eb83fa2c6"
      },
      "cell_type": "code",
      "source": [
        "print(\" Accrording to the Logistic Regression model,the probability of loan default is \", log_lm.predict_proba(XX)[:,1][0])"
      ],
      "execution_count": 28,
      "outputs": [
        {
          "output_type": "stream",
          "text": [
            " Accrording to the Logistic Regression model,the probability of loan default is  0.4888497279942286\n"
          ],
          "name": "stdout"
        }
      ]
    },
    {
      "metadata": {
        "id": "k0cDmRJd7yFn",
        "colab_type": "code",
        "colab": {
          "base_uri": "https://localhost:8080/",
          "height": 34
        },
        "outputId": "fc095f8d-a792-404f-fb29-aa3bf34181a7"
      },
      "cell_type": "code",
      "source": [
        "print(\" Accrording to the Grading Boosting model,the probability of loan default is \", grd.predict_proba(XX)[:,1][0])"
      ],
      "execution_count": 29,
      "outputs": [
        {
          "output_type": "stream",
          "text": [
            " Accrording to the Logistic Regression model,the probability of loan default is  0.5343991744106668\n"
          ],
          "name": "stdout"
        }
      ]
    },
    {
      "metadata": {
        "id": "SH42-ku-71tj",
        "colab_type": "code",
        "colab": {
          "base_uri": "https://localhost:8080/",
          "height": 34
        },
        "outputId": "71715fad-118e-435e-bd85-eb7ca5a826cc"
      },
      "cell_type": "code",
      "source": [
        "print(\" Accrording to the Random Forest model,the probability of loan default is \", dtree_gs.predict_proba(XX)[:,1][0])"
      ],
      "execution_count": 31,
      "outputs": [
        {
          "output_type": "stream",
          "text": [
            " Accrording to the Random Forest model,the probability of loan default is  0.3050522648083624\n"
          ],
          "name": "stdout"
        }
      ]
    }
  ]
}